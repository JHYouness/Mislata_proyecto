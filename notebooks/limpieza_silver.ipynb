{
 "cells": [
  {
   "cell_type": "markdown",
   "metadata": {},
   "source": [
    "### Código para limpiar sensores "
   ]
  },
  {
   "cell_type": "code",
   "execution_count": 31,
   "metadata": {},
   "outputs": [],
   "source": [
    "import pandas as pd\n",
    "\n",
    "df = pd.read_csv('Sensores_limpio_corregido.csv')  \n",
    "\n",
    "df_sin_bateria = df[~df['entity_id'].str.contains('_battery', na=False)]\n",
    "\n",
    "# Eliminamos filas que contienen un sensor nuevo que solo hace un registro 3 veces\n",
    "df_sin_bateria = df_sin_bateria.drop(df[df['entity_id'].isin(['sensor.sensor_temperatura_3_nuevo_4_humidity','sensor.sensor_temperatura_3_nuevo_4_pressure','sensor.sensor_temperatura_3_nuevo_4_temperature'])].index)\n",
    "\n",
    "\n",
    "sensores_ventanas_y_puerta = df_sin_bateria[\n",
    "    (df_sin_bateria['entity_id'].str.contains('sensor.sensor_ventana_', na=False)) | \n",
    "    (df_sin_bateria['entity_id'] == 'sensor.sensor_puerta_1_device_temperature')\n",
    "]\n",
    "\n",
    "sensores_temperatura = df_sin_bateria[df_sin_bateria['entity_id'].str.contains('sensor.sensor_temperatura_', na=False)]\n",
    "\n",
    "sensores_ventanas_y_puerta.to_csv('Sensores_ventanas_y_puerta.csv', index=False)\n",
    "sensores_temperatura.to_csv('Sensores_temperatura_clase.csv', index=False)\n"
   ]
  },
  {
   "cell_type": "markdown",
   "metadata": {},
   "source": [
    "### Código para limpiar csv de sol, quedando solo las variables de interés para predecir la temperatura del aula"
   ]
  },
  {
   "cell_type": "code",
   "execution_count": 29,
   "metadata": {},
   "outputs": [],
   "source": [
    "df = pd.read_csv('CSV_datos_Sol_limpio.csv')  \n",
    "\n",
    "df = df[[\"time\", \"azimuth\", \"elevation\"]]\n",
    "\n",
    "df.to_csv('Datos_sol_variables_importantes.csv', index=False)"
   ]
  }
 ],
 "metadata": {
  "kernelspec": {
   "display_name": "Python 3 (ipykernel)",
   "language": "python",
   "name": "python3"
  },
  "language_info": {
   "codemirror_mode": {
    "name": "ipython",
    "version": 3
   },
   "file_extension": ".py",
   "mimetype": "text/x-python",
   "name": "python",
   "nbconvert_exporter": "python",
   "pygments_lexer": "ipython3",
   "version": "3.11.11"
  }
 },
 "nbformat": 4,
 "nbformat_minor": 2
}
