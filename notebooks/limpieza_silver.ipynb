{
 "cells": [
  {
   "cell_type": "markdown",
   "metadata": {},
   "source": [
    "### Código para limpiar sensores "
   ]
  },
  {
   "cell_type": "code",
   "execution_count": 2,
   "metadata": {},
   "outputs": [],
   "source": [
    "import pandas as pd\n",
    "\n",
    "df = pd.read_csv('Sensores_limpio_corregido.csv')  \n",
    "\n",
    "df_sin_bateria = df[~df['entity_id'].str.contains('_battery', na=False)]\n",
    "\n",
    "# Eliminamos filas que contienen un sensor nuevo que solo hace un registro 3 veces\n",
    "df_sin_bateria = df_sin_bateria.drop(df[df['entity_id'].isin(['sensor.sensor_temperatura_3_nuevo_4_humidity','sensor.sensor_temperatura_3_nuevo_4_pressure','sensor.sensor_temperatura_3_nuevo_4_temperature'])].index)\n",
    "\n",
    "\n",
    "sensores_ventanas_y_puerta = df_sin_bateria[\n",
    "    (df_sin_bateria['entity_id'].str.contains('sensor.sensor_ventana_', na=False)) | \n",
    "    (df_sin_bateria['entity_id'] == 'sensor.sensor_puerta_1_device_temperature')\n",
    "]\n",
    "\n",
    "sensores_temperatura = df_sin_bateria[df_sin_bateria['entity_id'].str.contains('sensor.sensor_temperatura_', na=False)]\n",
    "\n",
    "sensores_ventanas_y_puerta.to_csv('Sensores_ventanas_y_puerta.csv', index=False)\n",
    "sensores_temperatura.to_csv('Sensores_temperatura_clase.csv', index=False)\n"
   ]
  },
  {
   "cell_type": "markdown",
   "metadata": {},
   "source": [
    "### Código para limpiar csv de sol, quedando solo las variables de interés para predecir la temperatura del aula"
   ]
  },
  {
   "cell_type": "code",
   "execution_count": 3,
   "metadata": {},
   "outputs": [],
   "source": [
    "df = pd.read_csv('CSV_datos_Sol_limpio.csv')  \n",
    "\n",
    "df = df[[\"time\", \"azimuth\", \"elevation\"]]\n",
    "\n",
    "df.to_csv('Datos_sol_variables_importantes.csv', index=False)"
   ]
  },
  {
   "cell_type": "markdown",
   "metadata": {},
   "source": [
    "### Código para limpiar csv de forecast"
   ]
  },
  {
   "cell_type": "code",
   "execution_count": 17,
   "metadata": {},
   "outputs": [],
   "source": [
    "import json\n",
    "\n",
    "\n",
    "df_raw = pd.read_csv(\"./entidad_weather_forecast.csv\", sep=';', parse_dates=['time'])\n",
    "\n",
    "# Si tiene columna 'attributes', expandirla\n",
    "if 'attributes' in df_raw.columns:\n",
    "    df_raw['attributes'] = df_raw['attributes'].apply(json.loads)\n",
    "    atributos_expandidos = pd.json_normalize(df_raw['attributes'])\n",
    "    df_limpio = pd.concat([df_raw.drop(columns=['attributes']), atributos_expandidos], axis=1)\n",
    "else:\n",
    "    df_limpio = df_raw\n",
    "\n",
    "\n",
    "# Guardar el archivo limpio como CSV\n",
    "df_limpio.to_csv(\"./forecast_limpio.csv\", index=False)\n",
    "\n",
    "\n",
    "df_silver = df_limpio[df_limpio['entity_id'] != \"weather.forecast_casa\"]\n",
    "df_silver = df_silver[df_silver['state'] != 'unavailable']\n",
    "\n",
    "# Comprobamos que la temperatura siempre está medida en grados Celsius\n",
    "df_silver[\"temperature_unit\"].unique()\n",
    "\n",
    "# Nos quedamos con las columnas que nos interesan\n",
    "df_silver = df_silver[[\"time\", \"temperature\", \"cloud_coverage\"]]\n",
    "df_silver['time'] = pd.to_datetime(df_silver['time']).dt.strftime('%Y-%m-%d %H:%M:%S')\n",
    "\n",
    "df_silver.to_csv('pronostico_exterior.csv', index=False)\n"
   ]
  }
 ],
 "metadata": {
  "kernelspec": {
   "display_name": "Python 3 (ipykernel)",
   "language": "python",
   "name": "python3"
  },
  "language_info": {
   "codemirror_mode": {
    "name": "ipython",
    "version": 3
   },
   "file_extension": ".py",
   "mimetype": "text/x-python",
   "name": "python",
   "nbconvert_exporter": "python",
   "pygments_lexer": "ipython3",
   "version": "3.11.11"
  }
 },
 "nbformat": 4,
 "nbformat_minor": 2
}
